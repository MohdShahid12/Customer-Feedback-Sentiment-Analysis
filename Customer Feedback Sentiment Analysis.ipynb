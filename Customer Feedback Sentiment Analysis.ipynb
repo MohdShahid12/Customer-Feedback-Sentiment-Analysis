{
 "cells": [
  {
   "cell_type": "code",
   "execution_count": 1,
   "id": "0c7986f9",
   "metadata": {},
   "outputs": [
    {
     "name": "stderr",
     "output_type": "stream",
     "text": [
      "[nltk_data] Downloading package punkt to\n",
      "[nltk_data]     C:\\Users\\HP\\AppData\\Roaming\\nltk_data...\n",
      "[nltk_data]   Package punkt is already up-to-date!\n"
     ]
    },
    {
     "data": {
      "text/plain": [
       "True"
      ]
     },
     "execution_count": 1,
     "metadata": {},
     "output_type": "execute_result"
    }
   ],
   "source": [
    "import pandas as pd\n",
    "import random\n",
    "import nltk\n",
    "from nltk.tokenize import word_tokenize\n",
    "import string\n",
    "from textblob import TextBlob\n",
    "import matplotlib.pyplot as plt\n",
    "import seaborn as sns\n",
    "from collections import Counter\n",
    "nltk.download('punkt')\n"
   ]
  },
  {
   "cell_type": "code",
   "execution_count": 2,
   "id": "93719957",
   "metadata": {},
   "outputs": [
    {
     "name": "stdout",
     "output_type": "stream",
     "text": [
      "Sample Customer Feedback:\n",
      "                                          reviewText  overall\n",
      "0    I absolutely love this product! It works great.        5\n",
      "1              Terrible service. I'm really unhappy.        1\n",
      "2       It's okay, but there’s room for improvement.        3\n",
      "3           Fantastic! Exceeded all my expectations.        5\n",
      "4    The quality is poor, and I'm very disappointed.        1\n",
      "5  Satisfactory experience, but encountered some ...        3\n",
      "6        Great value for money. Highly recommend it!        4\n",
      "7           Will never buy this again. Very unhappy.        1\n",
      "8         Average product, nothing special about it.        3\n",
      "9          Excellent customer support. Very helpful!        5\n"
     ]
    }
   ],
   "source": [
    "#Sample customer feedback data\n",
    "feedback_data = {\n",
    "    'reviewText': [\n",
    "        \"I absolutely love this product! It works great.\",\n",
    "        \"Terrible service. I'm really unhappy.\",\n",
    "        \"It's okay, but there’s room for improvement.\",\n",
    "        \"Fantastic! Exceeded all my expectations.\",\n",
    "        \"The quality is poor, and I'm very disappointed.\",\n",
    "        \"Satisfactory experience, but encountered some issues.\",\n",
    "        \"Great value for money. Highly recommend it!\",\n",
    "        \"Will never buy this again. Very unhappy.\",\n",
    "        \"Average product, nothing special about it.\",\n",
    "        \"Excellent customer support. Very helpful!\"\n",
    "    ],\n",
    "    'overall': [5, 1, 3, 5, 1, 3, 4, 1, 3, 5]  # Ratings from 1 (bad) to 5 (excellent)\n",
    "}\n",
    "\n",
    "# Creating a DataFrame\n",
    "df = pd.DataFrame(feedback_data)\n",
    "print(\"Sample Customer Feedback:\")\n",
    "print(df)\n"
   ]
  },
  {
   "cell_type": "code",
   "execution_count": 3,
   "id": "5430ed94",
   "metadata": {},
   "outputs": [
    {
     "name": "stdout",
     "output_type": "stream",
     "text": [
      "\n",
      "Missing Values in Data:\n",
      "reviewText    0\n",
      "overall       0\n",
      "dtype: int64\n"
     ]
    }
   ],
   "source": [
    "# Checking for missing values\n",
    "print(\"\\nMissing Values in Data:\")\n",
    "print(df.isnull().sum())\n",
    "\n",
    "# Dropping any missing values if present\n",
    "df.dropna(inplace=True)\n"
   ]
  },
  {
   "cell_type": "code",
   "execution_count": 4,
   "id": "77c4d787",
   "metadata": {},
   "outputs": [
    {
     "name": "stdout",
     "output_type": "stream",
     "text": [
      "\n",
      "Preprocessed Tokens:\n",
      "                                          reviewText  \\\n",
      "0    I absolutely love this product! It works great.   \n",
      "1              Terrible service. I'm really unhappy.   \n",
      "2       It's okay, but there’s room for improvement.   \n",
      "3           Fantastic! Exceeded all my expectations.   \n",
      "4    The quality is poor, and I'm very disappointed.   \n",
      "5  Satisfactory experience, but encountered some ...   \n",
      "6        Great value for money. Highly recommend it!   \n",
      "7           Will never buy this again. Very unhappy.   \n",
      "8         Average product, nothing special about it.   \n",
      "9          Excellent customer support. Very helpful!   \n",
      "\n",
      "                                              tokens  \n",
      "0  [i, absolutely, love, this, product, it, works...  \n",
      "1           [terrible, service, im, really, unhappy]  \n",
      "2  [its, okay, but, there, ’, s, room, for, impro...  \n",
      "3       [fantastic, exceeded, all, my, expectations]  \n",
      "4  [the, quality, is, poor, and, im, very, disapp...  \n",
      "5  [satisfactory, experience, but, encountered, s...  \n",
      "6  [great, value, for, money, highly, recommend, it]  \n",
      "7     [will, never, buy, this, again, very, unhappy]  \n",
      "8    [average, product, nothing, special, about, it]  \n",
      "9      [excellent, customer, support, very, helpful]  \n"
     ]
    }
   ],
   "source": [
    "def preprocess_review(review):\n",
    "    # Convert text to lowercase\n",
    "    review = review.lower()\n",
    "    # Remove punctuation\n",
    "    review = review.translate(str.maketrans('', '', string.punctuation))\n",
    "    # Tokenize the review\n",
    "    tokens = word_tokenize(review)\n",
    "    return tokens\n",
    "\n",
    "# Applying the preprocessing function to the reviews\n",
    "df['tokens'] = df['reviewText'].apply(preprocess_review)\n",
    "print(\"\\nPreprocessed Tokens:\")\n",
    "print(df[['reviewText', 'tokens']])\n"
   ]
  },
  {
   "cell_type": "code",
   "execution_count": 5,
   "id": "6c0b25d1",
   "metadata": {},
   "outputs": [
    {
     "name": "stdout",
     "output_type": "stream",
     "text": [
      "\n",
      "Sentiment Scores:\n",
      "                                          reviewText  sentiment\n",
      "0    I absolutely love this product! It works great.   0.712500\n",
      "1              Terrible service. I'm really unhappy.  -0.800000\n",
      "2       It's okay, but there’s room for improvement.   0.500000\n",
      "3           Fantastic! Exceeded all my expectations.   0.500000\n",
      "4    The quality is poor, and I'm very disappointed.  -0.687500\n",
      "5  Satisfactory experience, but encountered some ...   0.000000\n",
      "6        Great value for money. Highly recommend it!   0.500000\n",
      "7           Will never buy this again. Very unhappy.  -0.780000\n",
      "8         Average product, nothing special about it.   0.103571\n",
      "9          Excellent customer support. Very helpful!   0.625000\n"
     ]
    }
   ],
   "source": [
    "def analyze_sentiment(review):\n",
    "    # Using TextBlob to analyze sentiment\n",
    "    analysis = TextBlob(review)\n",
    "    return analysis.sentiment.polarity  # Returns a score between -1 (negative) and 1 (positive)\n",
    "\n",
    "# Applying the sentiment analysis function\n",
    "df['sentiment'] = df['reviewText'].apply(analyze_sentiment)\n",
    "print(\"\\nSentiment Scores:\")\n",
    "print(df[['reviewText', 'sentiment']])\n"
   ]
  },
  {
   "cell_type": "code",
   "execution_count": 6,
   "id": "95ba30c3",
   "metadata": {},
   "outputs": [
    {
     "name": "stdout",
     "output_type": "stream",
     "text": [
      "\n",
      "Common Issues Identified:\n",
      "Counter({'terrible': 1, 'poor': 1, 'disappointed': 1, 'issues': 1})\n"
     ]
    }
   ],
   "source": [
    "# Defining keywords that indicate issues\n",
    "issue_keywords = ['poor', 'terrible', 'disappointed', 'issues', 'never buy again']\n",
    "\n",
    "def find_issues(tokens):\n",
    "    # Finding keywords related to issues\n",
    "    return [word for word in tokens if word in issue_keywords]\n",
    "\n",
    "# Applying the function to identify issues in the tokens\n",
    "df['issues'] = df['tokens'].apply(find_issues)\n",
    "\n",
    "# Counting all identified issues\n",
    "all_issues = sum(df['issues'], [])\n",
    "issue_counts = Counter(all_issues)\n",
    "\n",
    "print(\"\\nCommon Issues Identified:\")\n",
    "print(issue_counts)\n"
   ]
  },
  {
   "cell_type": "code",
   "execution_count": 7,
   "id": "6abeccb0",
   "metadata": {},
   "outputs": [
    {
     "data": {
      "image/png": "[encoded data removed]",
      "text/plain": [
       "<Figure size 1000x500 with 1 Axes>"
      ]
     },
     "metadata": {},
     "output_type": "display_data"
    },
    {
     "data": {
      "image/png": "[encoded data removed]",
      "text/plain": [
       "<Figure size 1000x500 with 1 Axes>"
      ]
     },
     "metadata": {},
     "output_type": "display_data"
    }
   ],
   "source": [
    "# Plotting the sentiment distribution\n",
    "plt.figure(figsize=(10, 5))\n",
    "sns.histplot(df['sentiment'], bins=10, kde=True)\n",
    "plt.title('Distribution of Sentiment Scores')\n",
    "plt.xlabel('Sentiment Score')\n",
    "plt.ylabel('Frequency')\n",
    "plt.show()\n",
    "\n",
    "# Visualizing common issues\n",
    "issue_labels = list(issue_counts.keys())\n",
    "issue_values = list(issue_counts.values())\n",
    "\n",
    "plt.figure(figsize=(10, 5))\n",
    "sns.barplot(x=issue_labels, y=issue_values)\n",
    "plt.title('Common Customer Issues')\n",
    "plt.xlabel('Issues')\n",
    "plt.ylabel('Count')\n",
    "plt.show()\n"
   ]
  }
 ],
 "metadata": {
  "kernelspec": {
   "display_name": "Python 3 (ipykernel)",
   "language": "python",
   "name": "python3"
  },
  "language_info": {
   "codemirror_mode": {
    "name": "ipython",
    "version": 3
   },
   "file_extension": ".py",
   "mimetype": "text/x-python",
   "name": "python",
   "nbconvert_exporter": "python",
   "pygments_lexer": "ipython3",
   "version": "3.11.4"
  }
 },
 "nbformat": 4,
 "nbformat_minor": 5
}
